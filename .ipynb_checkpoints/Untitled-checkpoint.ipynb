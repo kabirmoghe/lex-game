{
 "cells": [
  {
   "cell_type": "code",
   "execution_count": 1,
   "metadata": {},
   "outputs": [],
   "source": [
    "import game\n",
    "import readbucketdata\n",
    "import createData"
   ]
  },
  {
   "cell_type": "code",
   "execution_count": 12,
   "metadata": {},
   "outputs": [],
   "source": [
    "word_info = readbucketdata.readbucketdata(\"letters.csv\")\n",
    "old_word_info = readbucketdata.readbucketdata(\"oldletters.csv\")\n",
    "\n",
    "oldMaxPoints, oldBestWords = old_word_info[\"maxPoints\"][0], eval(old_word_info[\"bestWords\"][0])\n",
    "\n",
    "letters, letterPts, maxPoints, bestWords, lid = eval(word_info[\"letters\"][0]), eval(word_info[\"letterPts\"][0]), word_info[\"maxPoints\"][0], eval(word_info[\"bestWords\"][0]), int(word_info[\"lid\"][0])"
   ]
  },
  {
   "cell_type": "code",
   "execution_count": 3,
   "metadata": {},
   "outputs": [
    {
     "data": {
      "text/plain": [
       "list"
      ]
     },
     "execution_count": 3,
     "metadata": {},
     "output_type": "execute_result"
    }
   ],
   "source": [
    "type(letters)"
   ]
  },
  {
   "cell_type": "code",
   "execution_count": 4,
   "metadata": {},
   "outputs": [
    {
     "data": {
      "text/plain": [
       "[4, 4, 1, 1, 4, 1, 4, 5]"
      ]
     },
     "execution_count": 4,
     "metadata": {},
     "output_type": "execute_result"
    }
   ],
   "source": [
    "letterPts"
   ]
  },
  {
   "cell_type": "code",
   "execution_count": 5,
   "metadata": {},
   "outputs": [
    {
     "data": {
      "text/plain": [
       "{'huffy': 17,\n",
       " 'hokku': 16,\n",
       " 'kooky': 16,\n",
       " 'hooky': 15,\n",
       " 'huff': 13,\n",
       " 'iffy': 13,\n",
       " 'kook': 12,\n",
       " 'hook': 11,\n",
       " 'khi': 10,\n",
       " 'kif': 10,\n",
       " 'yok': 10,\n",
       " 'yuk': 10,\n",
       " 'hoof': 10,\n",
       " 'foh': 9,\n",
       " 'foy': 9,\n",
       " 'hoy': 9,\n",
       " 'huh': 9,\n",
       " 'iff': 9,\n",
       " 'ivy': 9,\n",
       " 'off': 9,\n",
       " 'koi': 7,\n",
       " 'fou': 6,\n",
       " 'oho': 6,\n",
       " 'ooh': 6,\n",
       " 'you': 6}"
      ]
     },
     "execution_count": 5,
     "metadata": {},
     "output_type": "execute_result"
    }
   ],
   "source": [
    "eval(word_info[\"possWords\"][0])"
   ]
  },
  {
   "cell_type": "code",
   "execution_count": 6,
   "metadata": {},
   "outputs": [],
   "source": [
    "import json"
   ]
  },
  {
   "cell_type": "code",
   "execution_count": 7,
   "metadata": {},
   "outputs": [],
   "source": [
    "possWords = json.dumps(eval(word_info[\"possWords\"][0]))"
   ]
  },
  {
   "cell_type": "code",
   "execution_count": 8,
   "metadata": {},
   "outputs": [
    {
     "data": {
      "text/plain": [
       "False"
      ]
     },
     "execution_count": 8,
     "metadata": {},
     "output_type": "execute_result"
    }
   ],
   "source": [
    "\"buzz\" in possWords"
   ]
  },
  {
   "cell_type": "code",
   "execution_count": 14,
   "metadata": {},
   "outputs": [],
   "source": [
    "bestWordsDict = {}"
   ]
  },
  {
   "cell_type": "code",
   "execution_count": 15,
   "metadata": {},
   "outputs": [],
   "source": [
    "for item in bestWords:\n",
    "\t    bestWordsDict[item[0]] = item[1]"
   ]
  },
  {
   "cell_type": "code",
   "execution_count": 19,
   "metadata": {},
   "outputs": [
    {
     "data": {
      "text/plain": [
       "['quad', 'qanat', 'quant', 'aqua', 'qat']"
      ]
     },
     "execution_count": 19,
     "metadata": {},
     "output_type": "execute_result"
    }
   ],
   "source": []
  },
  {
   "cell_type": "code",
   "execution_count": null,
   "metadata": {},
   "outputs": [],
   "source": [
    "bestWords"
   ]
  },
  {
   "cell_type": "code",
   "execution_count": 151,
   "metadata": {},
   "outputs": [],
   "source": [
    "import numpy as np\n",
    "import pandas as pd\n",
    "import random\n",
    "\n",
    "class WordInfo:\n",
    "    def __init__(self, letters, letterPts, possWords, bestWords, maxPoints):\n",
    "        self.letters = letters\n",
    "        self.letterPts = letterPts\n",
    "        self.possWords = possWords\n",
    "        self.bestWords = bestWords\n",
    "        self.maxPoints = maxPoints\n",
    "\n",
    "def create_word_info():\n",
    "    \n",
    "    dictionary = pd.read_csv(\"https://raw.githubusercontent.com/zeisler/scrabble/master/db/dictionary.csv\", header = None)\n",
    "    dictionary.columns = [\"Alpha. Order\"]\n",
    "    dictionary = dictionary[dictionary[\"Alpha. Order\"].isna() == False]   \n",
    "    \n",
    "    # Orders words and creates column of ordered words in dictionary\n",
    "    ordered_words = []\n",
    "    ordered_words = sorted(dictionary[\"Alpha. Order\"].values, key = len)\n",
    "    dictionary[\"Length Order\"] = ordered_words\n",
    "    \n",
    "    letter_bank = {\"a\": 1, \"b\": 3, \"c\": 3, \"d\": 2, \"e\": 1, \"f\": 4, \"g\": 2, \"h\": 4, \"i\": 1, \"j\": 8, \"k\": 5, \"l\": 1, \"m\": 3, \"n\": 1, \"o\": 1, \"p\": 3, \"q\": 10, \"r\": 1, \"s\": 1, \"t\": 1, \"u\": 1, \"v\": 4, \"w\": 4, \"x\": 8, \"y\": 4, \"z\": 10}\n",
    "    picked_letters = random.sample(list(letter_bank), 8)\n",
    "    \n",
    "    # Ensures that there are vowels in the picked letters. If not, replaces random letter(s) with a vowel, calculates letter points\n",
    "    vowels = [\"a\", \"e\", \"i\", \"o\", \"u\"]\n",
    "    \n",
    "    num_vowels = 0\n",
    "    \n",
    "    for vowel in vowels:\n",
    "        if vowel in picked_letters:\n",
    "            num_vowels += 1\n",
    "        if num_vowels == 2:\n",
    "            break\n",
    "    \n",
    "    if (num_vowels < 2):\n",
    "        \n",
    "        if (num_vowels == 0):\n",
    "            \n",
    "            to_be_replaced = random.sample(range(len(picked_letters)), 2)\n",
    "            to_replace = random.sample(vowels, 2)\n",
    "                                           \n",
    "            for i in range(2):\n",
    "                picked_letters[to_be_replaced[i]] = to_replace[i]\n",
    "        \n",
    "        else:\n",
    "            curr_vowel = \"\"\n",
    "            \n",
    "            for i in range(len(picked_letters)):\n",
    "                if picked_letters[i] in vowels:\n",
    "                    curr_vowel = picked_letters.pop(i)\n",
    "                    break\n",
    "            \n",
    "            other_vowels = [v for v in vowels if v != curr_vowel]\n",
    "            \n",
    "            picked_letters[random.choice(range(len(picked_letters)))] = random.choice(other_vowels)\n",
    "            \n",
    "            picked_letters.insert(random.choice(range(len(picked_letters))), curr_vowel)\n",
    "    \n",
    "    letter_pts = [letter_bank[letter] for letter in picked_letters]\n",
    "    \n",
    "    # Method that returns all the words of the inputted length \n",
    "    def words_of_length(desired_length):\n",
    "        return [word for word in dictionary[\"Length Order\"].values if len(word) == desired_length]\n",
    "    \n",
    "    # List of words of inputted length\n",
    "    all_words = words_of_length(3) + words_of_length(4) + words_of_length(5)\n",
    "    \n",
    "    # Returns all words that are possible with given letters\n",
    "    \n",
    "    final_words = all_words.copy()\n",
    "\n",
    "    for word in all_words:\n",
    "\n",
    "        for char in word:\n",
    "            if char not in picked_letters:\n",
    "                final_words.remove(word)\n",
    "                break\n",
    "    \n",
    "    if (len(final_words) == 0):\n",
    "        create_word_info(picked_length)\n",
    "    else:\n",
    "    \n",
    "        # Calculates point tally of a word\n",
    "\n",
    "        def point_tally(word):\n",
    "            tally = 0\n",
    "\n",
    "            for char in word: \n",
    "                tally += letter_bank[char]\n",
    "\n",
    "            return tally\n",
    "\n",
    "        # Returns best possible words and associated point tally\n",
    "\n",
    "        def word_tallies(word_list):\n",
    "\n",
    "            words = {}\n",
    "\n",
    "            for word in word_list:\n",
    "                words[word] = point_tally(word)\n",
    "                        \n",
    "            return dict(sorted(words.items(), key=lambda word: word[1], reverse = True))\n",
    "\n",
    "        poss_words = word_tallies(final_words)\n",
    "\n",
    "        if len(poss_words) >= 5:\n",
    "            \n",
    "            cutoff = 0\n",
    "\n",
    "            while (list(poss_words.items())[cutoff][1] >= list(poss_words.items())[4][1]):\n",
    "                cutoff += 1\n",
    "            \n",
    "            best_words = list(poss_words.items())[:cutoff]\n",
    "        else:\n",
    "            best_words = list(poss_words.items())\n",
    "            \n",
    "        max_points = 0\n",
    "        \n",
    "        for pair in best_words:\n",
    "            max_points += pair[1]\n",
    "        \n",
    "        newGame = WordInfo(picked_letters, letter_pts, poss_words, best_words, max_points)\n",
    "        return newGame"
   ]
  },
  {
   "cell_type": "code",
   "execution_count": 152,
   "metadata": {
    "scrolled": false
   },
   "outputs": [
    {
     "name": "stdout",
     "output_type": "stream",
     "text": [
      "good\n",
      "good\n",
      "good\n",
      "good\n",
      "good\n",
      "good\n",
      "6\n"
     ]
    }
   ],
   "source": [
    "game = create_word_info()"
   ]
  },
  {
   "cell_type": "code",
   "execution_count": 154,
   "metadata": {},
   "outputs": [
    {
     "data": {
      "text/plain": [
       "[('wax', 13),\n",
       " ('pax', 12),\n",
       " ('papaw', 12),\n",
       " ('gawp', 10),\n",
       " ('bwana', 10),\n",
       " ('nawab', 10)]"
      ]
     },
     "execution_count": 154,
     "metadata": {},
     "output_type": "execute_result"
    }
   ],
   "source": [
    "game.bestWords"
   ]
  },
  {
   "cell_type": "code",
   "execution_count": 155,
   "metadata": {
    "scrolled": false
   },
   "outputs": [
    {
     "data": {
      "text/plain": [
       "{'wax': 13,\n",
       " 'pax': 12,\n",
       " 'papaw': 12,\n",
       " 'gawp': 10,\n",
       " 'bwana': 10,\n",
       " 'nawab': 10,\n",
       " 'waw': 9,\n",
       " 'pawn': 9,\n",
       " 'gnawn': 9,\n",
       " 'paw': 8,\n",
       " 'wab': 8,\n",
       " 'wap': 8,\n",
       " 'abba': 8,\n",
       " 'baba': 8,\n",
       " 'babu': 8,\n",
       " 'gnaw': 8,\n",
       " 'papa': 8,\n",
       " 'pupa': 8,\n",
       " 'pagan': 8,\n",
       " 'panga': 8,\n",
       " 'bap': 7,\n",
       " 'bub': 7,\n",
       " 'pap': 7,\n",
       " 'pub': 7,\n",
       " 'pup': 7,\n",
       " 'wag': 7,\n",
       " 'bang': 7,\n",
       " 'bung': 7,\n",
       " 'pang': 7,\n",
       " 'pung': 7,\n",
       " 'unban': 7,\n",
       " 'awa': 6,\n",
       " 'awn': 6,\n",
       " 'bag': 6,\n",
       " 'bug': 6,\n",
       " 'gab': 6,\n",
       " 'gap': 6,\n",
       " 'naw': 6,\n",
       " 'pug': 6,\n",
       " 'wan': 6,\n",
       " 'bunn': 6,\n",
       " 'gaga': 6,\n",
       " 'gang': 6,\n",
       " 'puna': 6,\n",
       " 'aba': 5,\n",
       " 'baa': 5,\n",
       " 'ban': 5,\n",
       " 'bun': 5,\n",
       " 'gag': 5,\n",
       " 'nab': 5,\n",
       " 'nap': 5,\n",
       " 'nub': 5,\n",
       " 'pan': 5,\n",
       " 'pun': 5,\n",
       " 'anga': 5,\n",
       " 'gaun': 5,\n",
       " 'guan': 5,\n",
       " 'aga': 4,\n",
       " 'gan': 4,\n",
       " 'gnu': 4,\n",
       " 'gun': 4,\n",
       " 'nag': 4,\n",
       " 'anna': 4,\n",
       " 'naan': 4,\n",
       " 'nana': 4,\n",
       " 'unau': 4,\n",
       " 'ana': 3,\n",
       " 'nun': 3}"
      ]
     },
     "execution_count": 155,
     "metadata": {},
     "output_type": "execute_result"
    }
   ],
   "source": [
    "game.possWords"
   ]
  },
  {
   "cell_type": "code",
   "execution_count": 129,
   "metadata": {},
   "outputs": [
    {
     "data": {
      "text/plain": [
       "{'xylyl': 18,\n",
       " 'immix': 16,\n",
       " 'xylol': 15,\n",
       " 'mommy': 14,\n",
       " 'oxy': 13,\n",
       " 'vox': 13,\n",
       " 'mixt': 13,\n",
       " 'oxim': 13,\n",
       " 'mix': 12,\n",
       " 'tommy': 12,\n",
       " 'yomim': 12,\n",
       " 'immy': 11,\n",
       " 'lox': 10,\n",
       " 'oxo': 10,\n",
       " 'tivy': 10,\n",
       " 'milty': 10,\n",
       " 'molly': 10,\n",
       " 'vomit': 10,\n",
       " 'ivy': 9,\n",
       " 'limy': 9,\n",
       " 'mity': 9,\n",
       " 'moly': 9,\n",
       " 'vim': 8,\n",
       " 'yom': 8,\n",
       " 'momi': 8,\n",
       " 'lolly': 8,\n",
       " 'ovoli': 8,\n",
       " 'ovolo': 8,\n",
       " 'titty': 8,\n",
       " 'tolyl': 8,\n",
       " 'villi': 8,\n",
       " 'volti': 8,\n",
       " 'mim': 7,\n",
       " 'mom': 7,\n",
       " 'illy': 7,\n",
       " 'lily': 7,\n",
       " 'oily': 7,\n",
       " 'toyo': 7,\n",
       " 'vill': 7,\n",
       " 'viol': 7,\n",
       " 'volt': 7,\n",
       " 'yill': 7,\n",
       " 'limit': 7,\n",
       " 'molto': 7,\n",
       " 'motto': 7,\n",
       " 'toy': 6,\n",
       " 'limo': 6,\n",
       " 'loom': 6,\n",
       " 'mill': 6,\n",
       " 'milo': 6,\n",
       " 'milt': 6,\n",
       " 'mitt': 6,\n",
       " 'moil': 6,\n",
       " 'moll': 6,\n",
       " 'molt': 6,\n",
       " 'mool': 6,\n",
       " 'moot': 6,\n",
       " 'mott': 6,\n",
       " 'omit': 6,\n",
       " 'toom': 6,\n",
       " 'mil': 5,\n",
       " 'mol': 5,\n",
       " 'moo': 5,\n",
       " 'mot': 5,\n",
       " 'tom': 5,\n",
       " 'lotto': 5,\n",
       " 'lilt': 4,\n",
       " 'loll': 4,\n",
       " 'loot': 4,\n",
       " 'loti': 4,\n",
       " 'olio': 4,\n",
       " 'otto': 4,\n",
       " 'till': 4,\n",
       " 'tilt': 4,\n",
       " 'titi': 4,\n",
       " 'toil': 4,\n",
       " 'toit': 4,\n",
       " 'toll': 4,\n",
       " 'tool': 4,\n",
       " 'toot': 4,\n",
       " 'ill': 3,\n",
       " 'lit': 3,\n",
       " 'loo': 3,\n",
       " 'lot': 3,\n",
       " 'oil': 3,\n",
       " 'oot': 3,\n",
       " 'til': 3,\n",
       " 'tit': 3,\n",
       " 'too': 3,\n",
       " 'tot': 3}"
      ]
     },
     "execution_count": 129,
     "metadata": {},
     "output_type": "execute_result"
    }
   ],
   "source": [
    "game.possWords"
   ]
  },
  {
   "cell_type": "code",
   "execution_count": null,
   "metadata": {},
   "outputs": [],
   "source": []
  }
 ],
 "metadata": {
  "kernelspec": {
   "display_name": "Python 3",
   "language": "python",
   "name": "python3"
  },
  "language_info": {
   "codemirror_mode": {
    "name": "ipython",
    "version": 3
   },
   "file_extension": ".py",
   "mimetype": "text/x-python",
   "name": "python",
   "nbconvert_exporter": "python",
   "pygments_lexer": "ipython3",
   "version": "3.8.5"
  }
 },
 "nbformat": 4,
 "nbformat_minor": 4
}
