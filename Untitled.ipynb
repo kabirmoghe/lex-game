{
 "cells": [
  {
   "cell_type": "code",
   "execution_count": 1,
   "metadata": {},
   "outputs": [],
   "source": [
    "import game\n",
    "import readbucketdata\n",
    "import createData"
   ]
  },
  {
   "cell_type": "code",
   "execution_count": 12,
   "metadata": {},
   "outputs": [],
   "source": [
    "word_info = readbucketdata.readbucketdata(\"letters.csv\")\n",
    "old_word_info = readbucketdata.readbucketdata(\"oldletters.csv\")\n",
    "\n",
    "oldMaxPoints, oldBestWords = old_word_info[\"maxPoints\"][0], eval(old_word_info[\"bestWords\"][0])\n",
    "\n",
    "letters, letterPts, maxPoints, bestWords, lid = eval(word_info[\"letters\"][0]), eval(word_info[\"letterPts\"][0]), word_info[\"maxPoints\"][0], eval(word_info[\"bestWords\"][0]), int(word_info[\"lid\"][0])"
   ]
  },
  {
   "cell_type": "code",
   "execution_count": 3,
   "metadata": {},
   "outputs": [
    {
     "data": {
      "text/plain": [
       "list"
      ]
     },
     "execution_count": 3,
     "metadata": {},
     "output_type": "execute_result"
    }
   ],
   "source": [
    "type(letters)"
   ]
  },
  {
   "cell_type": "code",
   "execution_count": 4,
   "metadata": {},
   "outputs": [
    {
     "data": {
      "text/plain": [
       "[4, 4, 1, 1, 4, 1, 4, 5]"
      ]
     },
     "execution_count": 4,
     "metadata": {},
     "output_type": "execute_result"
    }
   ],
   "source": [
    "letterPts"
   ]
  },
  {
   "cell_type": "code",
   "execution_count": 5,
   "metadata": {},
   "outputs": [
    {
     "data": {
      "text/plain": [
       "{'huffy': 17,\n",
       " 'hokku': 16,\n",
       " 'kooky': 16,\n",
       " 'hooky': 15,\n",
       " 'huff': 13,\n",
       " 'iffy': 13,\n",
       " 'kook': 12,\n",
       " 'hook': 11,\n",
       " 'khi': 10,\n",
       " 'kif': 10,\n",
       " 'yok': 10,\n",
       " 'yuk': 10,\n",
       " 'hoof': 10,\n",
       " 'foh': 9,\n",
       " 'foy': 9,\n",
       " 'hoy': 9,\n",
       " 'huh': 9,\n",
       " 'iff': 9,\n",
       " 'ivy': 9,\n",
       " 'off': 9,\n",
       " 'koi': 7,\n",
       " 'fou': 6,\n",
       " 'oho': 6,\n",
       " 'ooh': 6,\n",
       " 'you': 6}"
      ]
     },
     "execution_count": 5,
     "metadata": {},
     "output_type": "execute_result"
    }
   ],
   "source": [
    "eval(word_info[\"possWords\"][0])"
   ]
  },
  {
   "cell_type": "code",
   "execution_count": 6,
   "metadata": {},
   "outputs": [],
   "source": [
    "import json"
   ]
  },
  {
   "cell_type": "code",
   "execution_count": 7,
   "metadata": {},
   "outputs": [],
   "source": [
    "possWords = json.dumps(eval(word_info[\"possWords\"][0]))"
   ]
  },
  {
   "cell_type": "code",
   "execution_count": 8,
   "metadata": {},
   "outputs": [
    {
     "data": {
      "text/plain": [
       "False"
      ]
     },
     "execution_count": 8,
     "metadata": {},
     "output_type": "execute_result"
    }
   ],
   "source": [
    "\"buzz\" in possWords"
   ]
  },
  {
   "cell_type": "code",
   "execution_count": 14,
   "metadata": {},
   "outputs": [],
   "source": [
    "bestWordsDict = {}"
   ]
  },
  {
   "cell_type": "code",
   "execution_count": 15,
   "metadata": {},
   "outputs": [],
   "source": [
    "for item in bestWords:\n",
    "\t    bestWordsDict[item[0]] = item[1]"
   ]
  },
  {
   "cell_type": "code",
   "execution_count": 19,
   "metadata": {},
   "outputs": [
    {
     "data": {
      "text/plain": [
       "['quad', 'qanat', 'quant', 'aqua', 'qat']"
      ]
     },
     "execution_count": 19,
     "metadata": {},
     "output_type": "execute_result"
    }
   ],
   "source": []
  },
  {
   "cell_type": "code",
   "execution_count": null,
   "metadata": {},
   "outputs": [],
   "source": [
    "bestWords"
   ]
  },
  {
   "cell_type": "code",
   "execution_count": null,
   "metadata": {},
   "outputs": [],
   "source": []
  }
 ],
 "metadata": {
  "kernelspec": {
   "display_name": "Python 3",
   "language": "python",
   "name": "python3"
  },
  "language_info": {
   "codemirror_mode": {
    "name": "ipython",
    "version": 3
   },
   "file_extension": ".py",
   "mimetype": "text/x-python",
   "name": "python",
   "nbconvert_exporter": "python",
   "pygments_lexer": "ipython3",
   "version": "3.8.5"
  }
 },
 "nbformat": 4,
 "nbformat_minor": 4
}
